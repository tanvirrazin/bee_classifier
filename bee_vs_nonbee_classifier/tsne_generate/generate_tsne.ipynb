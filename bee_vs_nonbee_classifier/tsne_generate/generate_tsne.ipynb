{
 "cells": [
  {
   "cell_type": "code",
   "execution_count": 1,
   "metadata": {},
   "outputs": [],
   "source": [
    "import os \n",
    "import sys \n",
    "import cv2 \n",
    "import numpy as np \n",
    "import tensorflow as tf\n",
    "from tensorflow.keras.models import load_model                                                                       \n",
    "from tensorflow.keras import models\n",
    "from tensorflow.keras.preprocessing.image import ImageDataGenerator \n",
    "\n",
    "from sklearn.manifold import TSNE\n",
    "import seaborn as sn\n",
    "import matplotlib\n",
    "import matplotlib.pyplot as plt\n",
    "from sklearn.preprocessing import normalize"
   ]
  },
  {
   "cell_type": "code",
   "execution_count": 3,
   "metadata": {},
   "outputs": [
    {
     "name": "stdout",
     "output_type": "stream",
     "text": [
      "WARNING:tensorflow:From /home/gpu-machine/anaconda3/envs/tanvir_env/lib/python3.6/site-packages/tensorflow_core/python/ops/init_ops.py:97: calling GlorotUniform.__init__ (from tensorflow.python.ops.init_ops) with dtype is deprecated and will be removed in a future version.\n",
      "Instructions for updating:\n",
      "Call initializer instance with the dtype argument instead of passing it to the constructor\n",
      "WARNING:tensorflow:From /home/gpu-machine/anaconda3/envs/tanvir_env/lib/python3.6/site-packages/tensorflow_core/python/ops/init_ops.py:97: calling Zeros.__init__ (from tensorflow.python.ops.init_ops) with dtype is deprecated and will be removed in a future version.\n",
      "Instructions for updating:\n",
      "Call initializer instance with the dtype argument instead of passing it to the constructor\n",
      "WARNING:tensorflow:From /home/gpu-machine/anaconda3/envs/tanvir_env/lib/python3.6/site-packages/tensorflow_core/python/ops/resource_variable_ops.py:1630: calling BaseResourceVariable.__init__ (from tensorflow.python.ops.resource_variable_ops) with constraint is deprecated and will be removed in a future version.\n",
      "Instructions for updating:\n",
      "If using Keras pass *_constraint arguments to layers.\n"
     ]
    }
   ],
   "source": [
    "model = load_model('models/freezed-model-185-1.00.h5') "
   ]
  },
  {
   "cell_type": "code",
   "execution_count": 4,
   "metadata": {},
   "outputs": [],
   "source": [
    "input_layer = model.input                                                                                            \n",
    "output_layer = model.get_layer('block5_conv3')                                                                       \n",
    "prediction_model = models.Model(inputs=input_layer, outputs=output_layer.output)  "
   ]
  },
  {
   "cell_type": "code",
   "execution_count": 5,
   "metadata": {},
   "outputs": [
    {
     "name": "stdout",
     "output_type": "stream",
     "text": [
      "Found 360 images belonging to 12 classes.\n"
     ]
    }
   ],
   "source": [
    "datagen = ImageDataGenerator(rescale=1.0/255.0) \n",
    "batch_size, target_size, class_mode = 8, (224, 224), 'binary' \n",
    "number_of_epochs = 100 \n",
    "# prepare iterators \n",
    "path = \"./data/\" \n",
    "\n",
    "train_it = datagen.flow_from_directory(path + './', batch_size=batch_size, target_size=target_size)\n",
    "\n",
    "output_data = prediction_model.predict(train_it)\n",
    "reshaped_output_data = output_data.reshape(360, 14*14*512)"
   ]
  },
  {
   "cell_type": "code",
   "execution_count": 6,
   "metadata": {},
   "outputs": [],
   "source": [
    "data_labels = []\n",
    "class_indices_data = train_it.class_indices\n",
    "for img_label in train_it.labels:\n",
    "    for val, key in enumerate(class_indices_data):\n",
    "        if img_label == val:\n",
    "            data_labels.append(key)\n",
    "            break"
   ]
  },
  {
   "cell_type": "code",
   "execution_count": 6,
   "metadata": {
    "scrolled": true
   },
   "outputs": [],
   "source": [
    "flat_img_array = np.array(reshaped_output_data)\n",
    "normed_matrix = normalize(flat_img_array)\n",
    "\n",
    "# model = TSNE(\n",
    "#     n_components=2,\n",
    "#     n_iter=300,\n",
    "#     random_state=0,\n",
    "#     perplexity=15\n",
    "# )\n",
    "# tsne_data = model.fit_transform(normed_matrix)\n",
    "\n",
    "# tsne_data = np.vstack((tsne_data.T, data_labels)).T\n",
    "# tsne_df = pd.DataFrame(data=tsne_data, columns=(\"Dim_1\", \"Dim_2\", \"label\"))\n",
    "\n",
    "# bp = sn.FacetGrid(tsne_df, hue=\"label\", height=6, legend_out=False).map(plt.scatter, 'Dim_1', 'Dim_2').add_legend(title=\"Insect Type\", label_order=['bombyliidae','pelecorhynchidae','scarabaeidae','syrphidae_bee_mimic','syrphidae_wasp_mimic','tachinidae_bee_mimic','tachinidae_fly_mimic'])\n",
    "# plt.show()"
   ]
  },
  {
   "cell_type": "code",
   "execution_count": 7,
   "metadata": {},
   "outputs": [],
   "source": [
    "tsne = TSNE(n_components=2, random_state=0, n_iter=2000)\n",
    "tsne_res = tsne.fit_transform(normed_matrix)"
   ]
  },
  {
   "cell_type": "code",
   "execution_count": 3,
   "metadata": {
    "collapsed": true
   },
   "outputs": [
    {
     "data": {
      "text/plain": [
       "array([[ -9.083643  ,   9.894263  ],\n",
       "       [ 11.428641  ,  -1.9135125 ],\n",
       "       [ -2.0550523 ,   1.9847482 ],\n",
       "       [ -7.366774  , -12.742527  ],\n",
       "       [ -2.2631626 ,   0.9484382 ],\n",
       "       [ -2.8618147 ,  -2.225057  ],\n",
       "       [  1.4112978 , -11.0099    ],\n",
       "       [-11.804557  ,  10.0187235 ],\n",
       "       [ 10.98099   ,  -4.7087507 ],\n",
       "       [  9.218656  ,  -1.3310425 ],\n",
       "       [ -9.942764  ,   5.121854  ],\n",
       "       [ -1.9511385 ,   1.8233428 ],\n",
       "       [ 11.788334  ,   8.840007  ],\n",
       "       [-11.043895  ,   7.546932  ],\n",
       "       [ -1.8290929 ,   9.670005  ],\n",
       "       [  9.669949  ,  -2.893203  ],\n",
       "       [ -1.1387511 ,  -9.88865   ],\n",
       "       [ -6.8322797 ,  -7.9046016 ],\n",
       "       [-12.162157  ,   5.7373357 ],\n",
       "       [  3.065478  ,  10.573547  ],\n",
       "       [  1.5507307 ,  -9.27744   ],\n",
       "       [-13.471317  ,   8.275456  ],\n",
       "       [  1.3920141 ,  12.403696  ],\n",
       "       [  2.1263707 ,  10.443628  ],\n",
       "       [ -5.657986  ,   0.17972648],\n",
       "       [ -9.69197   , -11.990009  ],\n",
       "       [  0.02935845,  11.522766  ],\n",
       "       [ 10.875441  ,  10.044455  ],\n",
       "       [ -9.72085   , -13.0769615 ],\n",
       "       [-12.75283   ,   7.9693975 ],\n",
       "       [  0.5731615 , -10.141169  ],\n",
       "       [  1.5781053 ,  11.48984   ],\n",
       "       [  2.2927718 ,  -9.877686  ],\n",
       "       [ 11.577947  ,  10.009696  ],\n",
       "       [ -2.3198729 ,   2.659064  ],\n",
       "       [  2.9697466 ,  11.924404  ],\n",
       "       [  9.784228  ,  -4.6835246 ],\n",
       "       [  0.3886881 , -12.025752  ],\n",
       "       [ 14.743899  ,   9.586003  ],\n",
       "       [ -1.1109651 ,   8.56094   ],\n",
       "       [ -9.33263   ,   7.5184464 ],\n",
       "       [ 12.72288   ,   9.912426  ],\n",
       "       [ 11.935484  ,  -2.4543042 ],\n",
       "       [ 11.419141  ,  -3.893308  ],\n",
       "       [ 14.491567  ,  10.193359  ],\n",
       "       [ -8.686484  , -14.521503  ],\n",
       "       [ -8.510313  , -10.2450695 ],\n",
       "       [ 11.043978  ,  -5.9972143 ],\n",
       "       [ 12.145501  ,   9.860756  ],\n",
       "       [ -2.8495016 ,  -2.4109514 ],\n",
       "       [  0.0484642 ,  -0.3477315 ],\n",
       "       [ -1.0280528 ,   1.8099954 ],\n",
       "       [  3.6516666 ,  10.039847  ],\n",
       "       [ -8.323526  , -12.007543  ],\n",
       "       [ -5.045019  ,  -1.0694566 ],\n",
       "       [ -8.390432  ,  -7.911258  ],\n",
       "       [  0.10422779,  10.461659  ],\n",
       "       [-10.396418  ,  11.2909155 ],\n",
       "       [  0.6746036 , -12.328977  ],\n",
       "       [ 13.8655    ,   9.642217  ],\n",
       "       [ 15.710784  ,   9.581228  ],\n",
       "       [  9.64884   ,  10.276456  ],\n",
       "       [ 12.239906  ,   9.143275  ],\n",
       "       [ -8.070304  , -15.015415  ],\n",
       "       [-10.250213  , -11.387802  ],\n",
       "       [ -9.433516  , -12.954576  ],\n",
       "       [ 11.560892  ,  11.064955  ],\n",
       "       [  3.7770405 ,   8.816007  ],\n",
       "       [  2.958977  ,   7.0117965 ],\n",
       "       [ -1.0832694 ,   9.90965   ],\n",
       "       [ -1.7837429 ,   9.641055  ],\n",
       "       [ -3.4379597 ,  -0.2985971 ],\n",
       "       [-10.028749  ,   8.423376  ],\n",
       "       [ -4.589319  ,   2.9259188 ],\n",
       "       [ -1.409549  ,   1.0619142 ],\n",
       "       [ -8.226504  ,  -7.7355804 ],\n",
       "       [ -0.46416745,  12.666538  ],\n",
       "       [ 10.207282  ,  -1.9471838 ],\n",
       "       [-12.505159  ,   6.2585697 ],\n",
       "       [ -7.1570063 ,  -8.734574  ],\n",
       "       [-13.221157  ,   8.162396  ],\n",
       "       [ -0.40127707,  -9.465282  ],\n",
       "       [ -0.22623134,  -8.41222   ],\n",
       "       [  8.897765  ,  -4.6649566 ],\n",
       "       [ -8.6370945 , -14.688054  ],\n",
       "       [  3.153466  , -10.612041  ],\n",
       "       [ -7.444001  , -11.549627  ],\n",
       "       [ -3.0548677 ,   2.561007  ],\n",
       "       [ -9.720691  ,   7.5576787 ],\n",
       "       [-13.791793  ,   7.4617596 ],\n",
       "       [ 13.037171  ,   9.190112  ],\n",
       "       [ 12.617555  ,  11.417551  ],\n",
       "       [ -2.7803671 ,   1.3250781 ],\n",
       "       [  8.075897  ,  -2.0954065 ],\n",
       "       [ -9.211785  ,   9.741832  ],\n",
       "       [  0.45365274,  12.70309   ],\n",
       "       [  9.652296  ,  -0.9394103 ],\n",
       "       [  1.4274759 , -10.484254  ],\n",
       "       [  0.34017   ,  -9.110202  ],\n",
       "       [ 15.66914   ,  10.091428  ],\n",
       "       [  3.4103417 ,  -9.699561  ],\n",
       "       [  3.717475  ,   8.828378  ],\n",
       "       [  8.904093  ,  -1.6553279 ],\n",
       "       [ 12.383575  ,  -3.845895  ],\n",
       "       [ -7.332164  , -11.349265  ],\n",
       "       [ -8.131709  , -12.004344  ],\n",
       "       [ 10.916589  ,  11.113814  ],\n",
       "       [ -0.9900893 , -11.957949  ],\n",
       "       [  9.662407  ,  -3.9575756 ],\n",
       "       [ 10.605316  ,  -2.6868913 ],\n",
       "       [ 14.581557  ,   8.49887   ],\n",
       "       [ 10.819708  ,  -4.0623465 ],\n",
       "       [ -6.8324695 ,  -7.904466  ],\n",
       "       [ -1.4168348 ,   2.8080778 ],\n",
       "       [  9.182476  ,  -5.3748226 ],\n",
       "       [-12.855003  ,   7.1126657 ],\n",
       "       [ -0.5570641 ,  11.357349  ],\n",
       "       [  2.2282093 , -11.569613  ],\n",
       "       [  1.2311804 ,  12.297712  ],\n",
       "       [  1.7257841 ,  -8.638188  ],\n",
       "       [ -1.0446981 , -13.289902  ],\n",
       "       [ 11.526495  ,  10.500254  ],\n",
       "       [ 14.936013  ,   8.615885  ],\n",
       "       [  8.080449  ,  -3.0760903 ],\n",
       "       [  2.5028274 ,  11.410835  ],\n",
       "       [  0.45117795, -13.09338   ],\n",
       "       [  8.976774  ,   4.003278  ],\n",
       "       [ -4.2897706 ,  -0.25685814],\n",
       "       [ -2.5855062 ,   0.02040889],\n",
       "       [-12.1845455 ,   7.9318075 ],\n",
       "       [-10.9229965 ,   8.7085905 ],\n",
       "       [ -7.753749  , -14.161617  ],\n",
       "       [  0.23172171,  12.206899  ],\n",
       "       [ -5.8358817 ,   0.5855704 ],\n",
       "       [ -2.947293  ,   1.9150994 ],\n",
       "       [ 10.325416  ,  -5.222156  ],\n",
       "       [ -4.675387  ,   0.97222215],\n",
       "       [  1.4430894 , -12.562051  ],\n",
       "       [ 10.493377  ,  10.589148  ],\n",
       "       [  8.194234  ,  -3.4379153 ],\n",
       "       [ -1.711036  ,  -0.9668917 ],\n",
       "       [ -7.013795  , -11.820403  ],\n",
       "       [  0.9663279 ,  -9.13558   ],\n",
       "       [ -0.4973599 ,  10.23532   ],\n",
       "       [  8.641194  ,  -2.4337256 ],\n",
       "       [  3.112828  , -10.64525   ],\n",
       "       [-13.564516  ,   6.9788136 ],\n",
       "       [ -1.1543542 , -13.140725  ],\n",
       "       [  3.1217525 ,  12.038196  ],\n",
       "       [-11.835678  ,   8.537453  ],\n",
       "       [  3.1100466 , -10.536042  ],\n",
       "       [ 14.84724   ,  10.129989  ],\n",
       "       [ -4.085523  ,   0.45738485],\n",
       "       [ -9.605424  , -12.012107  ],\n",
       "       [ -8.721825  ,  -9.572712  ],\n",
       "       [-11.213067  ,  11.450237  ],\n",
       "       [  2.9637096 ,   6.9563694 ],\n",
       "       [ -5.400808  , -14.125827  ],\n",
       "       [  0.7758453 , -10.338166  ],\n",
       "       [-10.12048   ,   7.752194  ],\n",
       "       [  8.776343  ,  -3.0177748 ],\n",
       "       [ -8.612478  , -14.085536  ],\n",
       "       [  8.85871   ,  -2.5671504 ],\n",
       "       [ -5.4006996 , -14.125725  ],\n",
       "       [ -0.26918098,  -0.05487783],\n",
       "       [  2.507894  , -12.011175  ],\n",
       "       [ -6.237816  ,  -8.941077  ],\n",
       "       [ -4.005949  ,  -1.2346526 ],\n",
       "       [ 13.233567  ,   8.399722  ],\n",
       "       [ 12.049432  ,  -5.2225385 ],\n",
       "       [ 14.602202  ,   8.746581  ],\n",
       "       [ -9.123727  , -13.662706  ],\n",
       "       [ -1.5579772 ,   2.4913106 ],\n",
       "       [  0.28247583,  11.424452  ],\n",
       "       [  0.40257934,   9.583622  ],\n",
       "       [ -2.7150145 ,   9.787649  ],\n",
       "       [  8.923796  ,   3.8746638 ],\n",
       "       [ -3.519107  ,   1.0469135 ],\n",
       "       [ -2.4558492 ,  -0.4857414 ],\n",
       "       [-12.339725  ,   9.859796  ],\n",
       "       [ -8.390321  ,  -7.9113917 ],\n",
       "       [ 10.602223  ,  -1.3553643 ],\n",
       "       [ -6.37465   ,  -8.672462  ],\n",
       "       [ -9.900628  ,   7.2612    ],\n",
       "       [-11.114693  ,   4.756974  ],\n",
       "       [  0.99648744, -11.22769   ],\n",
       "       [ -1.1591921 , -12.033616  ],\n",
       "       [  8.833379  ,   3.7936666 ],\n",
       "       [ 11.107438  ,  -3.172379  ],\n",
       "       [ -0.05271647,  -9.246756  ],\n",
       "       [ 11.187377  ,  -1.7172818 ],\n",
       "       [ 11.001274  ,   8.234142  ],\n",
       "       [-10.64863   ,   8.127325  ],\n",
       "       [ -0.14304166,   9.055874  ],\n",
       "       [ 10.103234  ,  -4.812267  ],\n",
       "       [  2.6957908 ,  10.32993   ],\n",
       "       [-11.6332245 ,  11.082847  ],\n",
       "       [ -0.49852744,  12.277241  ],\n",
       "       [-10.942612  ,   4.9822836 ],\n",
       "       [  0.06936815, -10.95765   ],\n",
       "       [ -9.169338  ,  10.04687   ],\n",
       "       [ 12.83666   ,  10.696122  ],\n",
       "       [-11.955696  ,   5.921679  ],\n",
       "       [ 12.047783  ,  -5.007363  ],\n",
       "       [ -3.2480416 ,  -0.6269781 ],\n",
       "       [ 11.185943  ,   9.290588  ],\n",
       "       [  2.1747472 ,  -8.611951  ],\n",
       "       [ -3.6768641 ,   0.22227648],\n",
       "       [ -7.8405604 ,  -7.5579824 ],\n",
       "       [  8.785972  ,   3.9792492 ]], dtype=float32)"
      ]
     },
     "execution_count": 3,
     "metadata": {},
     "output_type": "execute_result"
    }
   ],
   "source": [
    "# with open(\"mimic_bee_numpy_tsne_result.npy\", 'wb') as f:\n",
    "#     np.save(f, tsne_res)\n",
    "    \n",
    "# with open(\"mimic_bee_numpy_tsne_result.npy\", 'rb') as f:\n",
    "#     tsne_res = np.load(f)\n",
    "    \n",
    "# tsne_res"
   ]
  },
  {
   "cell_type": "code",
   "execution_count": 9,
   "metadata": {},
   "outputs": [
    {
     "data": {
      "image/png": "[encoded data removed]",
      "text/plain": [
       "<Figure size 432x288 with 1 Axes>"
      ]
     },
     "metadata": {
      "needs_background": "light"
     },
     "output_type": "display_data"
    }
   ],
   "source": [
    "# np.set_printoptions(formatter={'float': lambda x: \"{0:0.4f}\".format(x)})\n",
    "# print(tsne_res)\n",
    "\n",
    "sn.scatterplot(\n",
    "    x=tsne_res[:,0],\n",
    "    y=tsne_res[:,1],\n",
    "    hue=data_labels,\n",
    "    palette=sn.hls_palette(12),\n",
    "    legend='full',\n",
    "#     legend=False\n",
    ")\n",
    "\n",
    "\n",
    "\n",
    "handles, labels = plt.gca().get_legend_handles_labels()\n",
    "order = [0, 1, 2, 3, 4, 5, 6, 7, 8, 9, 10, 11]\n",
    "plt.legend([handles[idx] for idx in order],[labels[idx] for idx in order], bbox_to_anchor=(1.02, 1), loc='upper left', borderaxespad=0)\n",
    "\n",
    "# plt.legend(['bombyliidae','pelecorhynchidae','scarabaeidae','syrphidae_bee_mimic','syrphidae_wasp_mimic','tachinidae_bee_mimic','tachinidae_fly_mimic'], bbox_to_anchor=(1.02, 1), loc='upper left', borderaxespad=0)\n",
    "plt.xlabel('tSNE-1')\n",
    "plt.ylabel('tSNE-2')\n",
    "plt.savefig(\"output_1.svg\", format=\"svg\", bbox_inches='tight', dpi=1200)"
   ]
  },
  {
   "cell_type": "code",
   "execution_count": 16,
   "metadata": {},
   "outputs": [
    {
     "name": "stdout",
     "output_type": "stream",
     "text": [
      "6\n",
      "10\n",
      "11\n",
      "16\n",
      "18\n",
      "24\n",
      "26\n",
      "30\n",
      "38\n",
      "39\n",
      "41\n",
      "42\n",
      "44\n",
      "54\n",
      "89\n",
      "111\n",
      "113\n",
      "116\n",
      "122\n",
      "138\n",
      "145\n",
      "163\n",
      "165\n",
      "176\n",
      "188\n",
      "194\n",
      "199\n",
      "214\n",
      "218\n",
      "220\n",
      "233\n"
     ]
    }
   ],
   "source": [
    "for i in range(360):\n",
    "    if (tsne_res[i][0] > 10 and tsne_res[i][0] < 20) \\\n",
    "    and (tsne_res[i][1] > -10 and tsne_res[i][1] < 3):\n",
    "        print(i)"
   ]
  },
  {
   "cell_type": "code",
   "execution_count": 61,
   "metadata": {},
   "outputs": [
    {
     "data": {
      "text/plain": [
       "'/data/bhuiyan/insect_classifier/tsne_generator'"
      ]
     },
     "execution_count": 61,
     "metadata": {},
     "output_type": "execute_result"
    }
   ],
   "source": [
    "pwd"
   ]
  },
  {
   "cell_type": "code",
   "execution_count": null,
   "metadata": {},
   "outputs": [],
   "source": []
  }
 ],
 "metadata": {
  "kernelspec": {
   "display_name": "Python 3",
   "language": "python",
   "name": "python3"
  },
  "language_info": {
   "codemirror_mode": {
    "name": "ipython",
    "version": 3
   },
   "file_extension": ".py",
   "mimetype": "text/x-python",
   "name": "python",
   "nbconvert_exporter": "python",
   "pygments_lexer": "ipython3",
   "version": "3.6.9"
  }
 },
 "nbformat": 4,
 "nbformat_minor": 2
}
